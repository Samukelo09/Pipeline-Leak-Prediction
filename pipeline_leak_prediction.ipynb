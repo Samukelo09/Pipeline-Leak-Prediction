{
 "cells": [
  {
   "cell_type": "markdown",
   "id": "1eacffe4",
   "metadata": {},
   "source": [
    "In a CSV file replace commas with dots only if they a between digits"
   ]
  },
  {
   "cell_type": "code",
   "execution_count": 1,
   "id": "0c87cfda",
   "metadata": {},
   "outputs": [],
   "source": [
    "import re"
   ]
  },
  {
   "cell_type": "code",
   "execution_count": 2,
   "id": "7cdaf7e3",
   "metadata": {},
   "outputs": [],
   "source": [
    "leaks_file = 'Dataset/2018_Leakages.csv'\n",
    "with open(leaks_file, 'r', encoding='utf-8') as file:\n",
    "    content = file.read()\n",
    "\n",
    "# use regular expression to replace commas between digits with dots\n",
    "cleaned_content = re.sub(r'(?<=\\d),(?=\\d)', '.', content)\n",
    "\n",
    "leaks_file = 'Dataset/2018_Leakages.csv'\n",
    "with open('Dataset/2018_Leakages_Cleaned.csv', 'w', encoding='utf-8') as file:\n",
    "    file.write(cleaned_content)\n",
    "\n"
   ]
  }
 ],
 "metadata": {
  "kernelspec": {
   "display_name": "Python 3",
   "language": "python",
   "name": "python3"
  },
  "language_info": {
   "codemirror_mode": {
    "name": "ipython",
    "version": 3
   },
   "file_extension": ".py",
   "mimetype": "text/x-python",
   "name": "python",
   "nbconvert_exporter": "python",
   "pygments_lexer": "ipython3",
   "version": "3.11.0"
  }
 },
 "nbformat": 4,
 "nbformat_minor": 5
}
