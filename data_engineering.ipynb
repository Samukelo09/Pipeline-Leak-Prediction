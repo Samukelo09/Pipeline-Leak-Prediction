{
 "cells": [
  {
   "cell_type": "markdown",
   "id": "185a420c",
   "metadata": {},
   "source": [
    "# **Water Pipeline Leak Prediction**"
   ]
  },
  {
   "cell_type": "markdown",
   "id": "c9bbcda4",
   "metadata": {},
   "source": [
    "#### **Setup & Imports**"
   ]
  },
  {
   "cell_type": "code",
   "execution_count": 2,
   "id": "dc6a0281",
   "metadata": {},
   "outputs": [],
   "source": [
    "import pandas as pd\n",
    "import numpy as np\n",
    "import re\n",
    "\n",
    "REP_PATH = \"Dataset/Civil_Breakdown_Work_2020_to_Date.xlsx\"\n",
    "PIPES_PATH = \"Dataset/Pipelines_Materials_and_Lengths_Raw_Date.xlsx\""
   ]
  },
  {
   "cell_type": "markdown",
   "id": "8d6051dd",
   "metadata": {},
   "source": [
    "#### **Small Helpers**"
   ]
  },
  {
   "cell_type": "code",
   "execution_count": 3,
   "id": "da0eefc5",
   "metadata": {},
   "outputs": [],
   "source": [
    "def normalize_cols(df: pd.DataFrame) -> pd.DataFrame:\n",
    "    df = df.copy()\n",
    "    df.columns = [str(c).replace(\"\\n\", \" \").strip() for c in df.columns]\n",
    "    return df\n",
    "\n",
    "def clean_text(s):\n",
    "    if pd.isna(s):\n",
    "        return None\n",
    "    s = str(s).strip()\n",
    "    s = re.sub(r\"\\s+\", \" \", s)\n",
    "    return s\n",
    "\n",
    "def norm_key(s):\n",
    "    if pd.isna(s):\n",
    "        return None\n",
    "    s = str(s).lower()\n",
    "    s = re.sub(r\"[^a-z0-9]+\", \" \", s)\n",
    "    s = re.sub(r\"\\s+\", \" \", s).strip()\n",
    "    return s"
   ]
  },
  {
   "cell_type": "markdown",
   "id": "58b1cd53",
   "metadata": {},
   "source": [
    "#### **Load Raw Data**"
   ]
  },
  {
   "cell_type": "code",
   "execution_count": 4,
   "id": "8d9a7753",
   "metadata": {},
   "outputs": [],
   "source": [
    "# replace / work orders\n",
    "rep = pd.read_excel(REP_PATH, sheet_name=\"Sheet1\")\n",
    "rep = normalize_cols(rep)\n",
    "\n",
    "# pipe attributes (multi-row header -> header=3)\n",
    "mat_raw = pd.read_excel(\n",
    "    PIPES_PATH, \n",
    "    sheet_name=\"IZINTABA SYSTEM MATERIAL update\", \n",
    "    header=3\n",
    ")"
   ]
  },
  {
   "cell_type": "markdown",
   "id": "0eba7d2f",
   "metadata": {},
   "source": [
    "#### **Select Relevant Columns & Standardize**"
   ]
  },
  {
   "cell_type": "code",
   "execution_count": 5,
   "id": "8cbc5e57",
   "metadata": {},
   "outputs": [],
   "source": [
    "# keep only useful columns\n",
    "rep_keep = [\n",
    "    \"Order\", \"Order Type\",\"Priority\",\"Problem_Description\",\n",
    "    \"MaintActivType\",\"System status\", \"Sched. start\",\n",
    "    \"Sched. finish\",\"Basic start\",\"Basic finish\",\"Actual start\",\n",
    "    \"Actual finish\", \"Functional Loc.\",\"Equipment\",\"Description\",\n",
    "    \"Location_Description\", \"Total act.costs\",\"TotalPlnndCosts\"\n",
    "]\n",
    "rep = rep[[c for c in rep_keep if c in rep.columns]].copy()\n",
    "\n",
    "# clean text columns in rep\n",
    "for c in [\n",
    "    \"Problem_Description\", \"MaintActivType\", \"Functional Loc.\",\n",
    "    \"Equipment\", \"Description\", \"Location_Description\"\n",
    "]:\n",
    "    if c in rep.columns:\n",
    "        rep[c] = rep[c].apply(clean_text)\n",
    "\n",
    "# rename pipeline sheet columns to canonical names\n",
    "rename_map = {\n",
    "    \"System\": \"SYSTEM\",\n",
    "    \"Sub system \": \"SUB SYSTEM\",\n",
    "    \"Sub system\": \"SUB SYSTEM\",\n",
    "    \"Pipeline Name\": \"PIPELINE NAME\",\n",
    "    \"Length (km)\": \"TOTAL LENGTH (KM)\",\n",
    "    \"(mm)\": \"Nominal Diameter\",\n",
    "    \"Material\": \"Material\",\n",
    "    \"(Mℓ/day)\": \"CAPACITY MLD\",\n",
    "    \"(years)\": \"PIPELINE AGE\",\n",
    "    \"From\": \"FROM\",\n",
    "    \"To\": \"TO\"\n",
    "}\n",
    "mat = mat_raw.rename(columns=rename_map)\n",
    "\n",
    "# keep relevant columns\n",
    "mat_keep = [\n",
    "    \"SYSTEM\", \"SUB SYSTEM\", \"PIPELINE NAME\", \"FROM\",\"TO\", \"TOTAL LENGTH (KM)\",\n",
    "    \"Nominal Diameter\",\"Material\",\"CAPACITY MLD\",\"PIPELINE AGE\"\n",
    "]\n",
    "mat = mat[[c for c in mat_keep if c in mat.columns]].copy()\n",
    "\n",
    "# clean text in mat\n",
    "for c in [\"SYSTEM\",\"SUB SYSTEM\",\"PIPELINE NAME\",\"FROM\",\"TO\",\"Material\"]:\n",
    "    if c in mat.columns:\n",
    "        mat[c] = mat[c].apply(clean_text)\n",
    "\n",
    "# numeric casting\n",
    "for nc in [\"TOTAL LENGTH (KM)\",\"Nominal Diameter\",\"CAPACITY MLD\",\"PIPELINE AGE\"]:\n",
    "    if nc in mat.columns:\n",
    "        mat[nc] = pd.to_numeric(mat[nc], errors=\"coerce\")"
   ]
  },
  {
   "cell_type": "markdown",
   "id": "72a07854",
   "metadata": {},
   "source": [
    "#### **Create Leak/Failure Label**"
   ]
  },
  {
   "cell_type": "code",
   "execution_count": 6,
   "id": "82c7faf6",
   "metadata": {},
   "outputs": [],
   "source": [
    "leak_kw = r\"(leak|leaking|leakage|burst|pipe burst|pipeline burst|bursting|pipe break|pipe failure|repair pipe|repair leak)\"\n",
    "\n",
    "def has_leak_flag(row):\n",
    "    text = \" \".join([\n",
    "        str(row.get(\"Problem_Description\") or \"\"),\n",
    "        str(row.get(\"MaintActivType\") or \"\"),\n",
    "    ]).lower()\n",
    "    code = (row.get(\"MaintActivType\") or \"\").strip().upper()\n",
    "    # extend if your data uses other codes\n",
    "    code_hint = code in {\"DBN\", \"DB\", \"BRK\", \"RPR\"}\n",
    "    return int(bool(re.search(leak_kw, text)) or code_hint)\n",
    "\n",
    "rep[\"target_leak\"] = rep.apply(has_leak_flag, axis=1)"
   ]
  },
  {
   "cell_type": "markdown",
   "id": "b6102c88",
   "metadata": {},
   "source": [
    "#### **Parse Event Dates**"
   ]
  },
  {
   "cell_type": "code",
   "execution_count": 7,
   "id": "fe2543f9",
   "metadata": {},
   "outputs": [],
   "source": [
    "date_cols_priority = [\n",
    "    \"Actual start\", \"Sched. start\", \"Basic start\",\n",
    "    \"Actual finish\", \"Sched. finish\", \"Basic finish\"\n",
    "]\n",
    "\n",
    "def parse_best_date(row):\n",
    "    for dc in date_cols_priority:\n",
    "        if dc in rep.columns and pd.notna(row.get(dc)):\n",
    "            try:\n",
    "                return pd.to_datetime(row.get(dc))\n",
    "            except Exception:\n",
    "                continue\n",
    "    return pd.NaT\n",
    "\n",
    "rep[\"event_date\"] = rep.apply(parse_best_date, axis=1)\n",
    "rep[\"event_year\"] = pd.to_datetime(rep[\"event_date\"], errors=\"coerce\").dt.year\n",
    "rep[\"event_month\"] = pd.to_datetime(rep[\"event_date\"], errors=\"coerce\").dt.month"
   ]
  },
  {
   "cell_type": "markdown",
   "id": "845a10e8",
   "metadata": {},
   "source": [
    "#### **Build Join Keys**"
   ]
  },
  {
   "cell_type": "code",
   "execution_count": 8,
   "id": "6e719df4",
   "metadata": {},
   "outputs": [],
   "source": [
    "# asset key from replacement orders\n",
    "asset_candidates = [\"Functional Loc.\", \"Description\", \"Location_Description\"]\n",
    "rep[\"asset_key_raw\"] = None\n",
    "for c in asset_candidates:\n",
    "    if c in rep.columns:\n",
    "        rep[\"asset_key_raw\"] = rep[\"asset_key_raw\"].fillna(rep[c])\n",
    "rep[\"asset_key\"] = rep[\"asset_key_raw\"].apply(norm_key)\n",
    "\n",
    "# pipeline key from attributes\n",
    "if \"PIPELINE NAME\" in mat.columns:\n",
    "    mat[\"pipe_key_raw\"] = mat[\"PIPELINE NAME\"].fillna(mat.get(\"SUB SYSTEM\"))\n",
    "else:\n",
    "    mat[\"pipe_key_raw\"] = mat.get(\"SUB SYSTEM\")\n",
    "mat[\"pipe_key\"] = mat[\"pipe_key_raw\"].apply(norm_key)"
   ]
  },
  {
   "cell_type": "markdown",
   "id": "b7a88159",
   "metadata": {},
   "source": [
    "#### **Exact Join**"
   ]
  },
  {
   "cell_type": "code",
   "execution_count": 9,
   "id": "e4fd03f8",
   "metadata": {},
   "outputs": [
    {
     "name": "stdout",
     "output_type": "stream",
     "text": [
      "Exact match rate: 0.00%\n"
     ]
    }
   ],
   "source": [
    "rep_nonnull = rep.dropna(subset=[\"asset_key\"]).copy()\n",
    "mat_nonnull = mat.dropna(subset=[\"pipe_key\"]).copy()\n",
    "\n",
    "merged_exact = rep_nonnull.merge(\n",
    "    mat_nonnull,\n",
    "    left_on=\"asset_key\", right_on=\"pipe_key\",\n",
    "    how=\"left\", suffixes=(\"_rep\",\"_pipe\")\n",
    ")\n",
    "\n",
    "exact_match_rate = (merged_exact[\"pipe_key\"].notna().mean() * 100) if len(merged_exact) else 0.0\n",
    "print(f\"Exact match rate: {exact_match_rate:.2f}%\")\n"
   ]
  },
  {
   "cell_type": "markdown",
   "id": "36abc80f",
   "metadata": {},
   "source": [
    "#### **Heuristic Mapping by Shared Numbers**"
   ]
  },
  {
   "cell_type": "code",
   "execution_count": 10,
   "id": "1b3c2dbc",
   "metadata": {},
   "outputs": [],
   "source": [
    "def extract_numbers(s):\n",
    "    if not isinstance(s, str): \n",
    "        return []\n",
    "    return re.findall(r\"\\b(\\d{1,4})\\b\", s)\n",
    "\n",
    "rep_num = rep.copy()\n",
    "rep_num[\"nums\"] = rep_num[\"asset_key_raw\"].apply(\n",
    "    lambda x: extract_numbers(x) if pd.notna(x) else []\n",
    ")\n",
    "\n",
    "mat_num = mat.copy()\n",
    "if \"PIPELINE NAME\" in mat_num.columns:\n",
    "    mat_num[\"nums\"] = mat_num[\"PIPELINE NAME\"].apply(\n",
    "        lambda x: extract_numbers(x) if pd.notna(x) else []\n",
    "    )\n",
    "else:\n",
    "    mat_num[\"nums\"] = [[] for _ in range(len(mat_num))]\n",
    "\n",
    "rep_ex = rep_num.explode(\"nums\")\n",
    "mat_ex = mat_num.explode(\"nums\")\n",
    "\n",
    "num_merge = rep_ex.merge(\n",
    "    mat_ex[[\n",
    "        \"PIPELINE NAME\", \"SYSTEM\",\"SUB SYSTEM\", \"TOTAL LENGTH (KM)\",\n",
    "        \"Nominal Diameter\", \"Material\", \"CAPACITY MLD\", \"PIPELINE AGE\", \"nums\"\n",
    "    ]],\n",
    "    on=\"nums\", how=\"left\", suffixes=(\"\",\"_mat\")\n",
    ")\n",
    "\n",
    "best_by_order = (\n",
    "    num_merge.sort_values(\n",
    "        [\"Order\",\"nums\"]\n",
    "    ).groupby(\"Order\").agg({\n",
    "                     \"PIPELINE NAME\":\"first\",\n",
    "                     \"SYSTEM\":\"first\",\n",
    "                     \"SUB SYSTEM\":\"first\",\n",
    "                     \"TOTAL LENGTH (KM)\":\"first\",\n",
    "                     \"Nominal Diameter\":\"first\",\n",
    "                     \"Material\":\"first\",\n",
    "                     \"CAPACITY MLD\":\"first\",\n",
    "                     \"PIPELINE AGE\":\"first\"\n",
    "                    }).reset_index().rename(columns={\n",
    "                     \"PIPELINE NAME\":\"heur_PIPELINE NAME\",\n",
    "                     \"SYSTEM\":\"heur_SYSTEM\",\n",
    "                     \"SUB SYSTEM\":\"heur_SUB SYSTEM\",\n",
    "                     \"TOTAL LENGTH (KM)\":\"heur_TOTAL LENGTH (KM)\",\n",
    "                     \"Nominal Diameter\":\"heur_Nominal Diameter\",\n",
    "                     \"Material\":\"heur_Material\",\n",
    "                     \"CAPACITY MLD\":\"heur_CAPACITY MLD\",\n",
    "                     \"PIPELINE AGE\":\"heur_PIPELINE AGE\"\n",
    "                    })\n",
    ")\n"
   ]
  },
  {
   "cell_type": "markdown",
   "id": "182200aa",
   "metadata": {},
   "source": [
    "#### **Assemble Final Training Dataset**"
   ]
  },
  {
   "cell_type": "code",
   "execution_count": 11,
   "id": "6a3a1ec0",
   "metadata": {},
   "outputs": [],
   "source": [
    "# start from exact merge\n",
    "merged = merged_exact.copy()\n",
    "\n",
    "# add heuristic columns by Order\n",
    "merged = merged.merge(best_by_order, on=\"Order\", how=\"left\")\n",
    "\n",
    "def fill_choice(row, exact, heur):\n",
    "    v = row.get(exact)\n",
    "    return row.get(heur) if (pd.isna(v) or v in [\"\", None]) else v\n",
    "\n",
    "for base in [\n",
    "    \"PIPELINE NAME\", \"SYSTEM\", \"SUB SYSTEM\", \"TOTAL LENGTH (KM)\",\n",
    "    \"Nominal Diameter\", \"Material\", \"CAPACITY MLD\", \"PIPELINE AGE\"\n",
    "]:\n",
    "    exact = base\n",
    "    heur = f\"heur_{base}\"\n",
    "    if exact in merged.columns or heur in merged.columns:\n",
    "        merged[f\"final__{base}\"] = merged.apply(\n",
    "            lambda r: fill_choice(r, exact, heur), axis=1\n",
    "        )\n",
    "\n",
    "final_cols = [\n",
    "    # labels & dates\n",
    "    \"Order\",\"Order Type\",\"Priority\",\"MaintActivType\",\"Problem_Description\",\n",
    "    \"event_date\",\"event_year\",\"event_month\",\"target_leak\",\n",
    "    # asset refs\n",
    "    \"Functional Loc.\",\"Equipment\",\"Description\",\"Location_Description\",\n",
    "    # attributes\n",
    "    \"final__PIPELINE NAME\",\"final__SYSTEM\",\"final__SUB SYSTEM\",\n",
    "    \"final__TOTAL LENGTH (KM)\",\"final__Nominal Diameter\",\"final__Material\",\n",
    "    \"final__CAPACITY MLD\",\"final__PIPELINE AGE\"\n",
    "]\n",
    "final_cols = [c for c in final_cols if c in merged.columns]\n",
    "dataset = merged[final_cols].copy()"
   ]
  },
  {
   "cell_type": "markdown",
   "id": "791ff948",
   "metadata": {},
   "source": [
    "#### **Save Outputs**"
   ]
  },
  {
   "cell_type": "code",
   "execution_count": 12,
   "id": "15dddf79",
   "metadata": {},
   "outputs": [],
   "source": [
    "# save dataframe\n",
    "dataset.to_pickle('pipe_leak_training_dataset_fresh.pkl')"
   ]
  },
  {
   "cell_type": "code",
   "execution_count": 13,
   "id": "f492d3bc",
   "metadata": {},
   "outputs": [
    {
     "name": "stdout",
     "output_type": "stream",
     "text": [
      "Class counts:\n",
      " target_leak\n",
      "0    5127\n",
      "1    1133\n",
      "\n",
      "Class %:\n",
      " target_leak\n",
      "0    81.9\n",
      "1    18.1\n"
     ]
    }
   ],
   "source": [
    "vc = dataset[\"target_leak\"].value_counts(dropna=False)\n",
    "pct = (vc / len(dataset) * 100).round(2)\n",
    "print(\"Class counts:\\n\", vc.to_string())\n",
    "print(\"\\nClass %:\\n\", pct.to_string())"
   ]
  },
  {
   "cell_type": "code",
   "execution_count": 14,
   "id": "8cd25f65",
   "metadata": {},
   "outputs": [
    {
     "name": "stderr",
     "output_type": "stream",
     "text": [
      "C:\\Users\\samke\\AppData\\Local\\Temp\\ipykernel_12592\\1833726185.py:8: FutureWarning: \n",
      "\n",
      "Passing `palette` without assigning `hue` is deprecated and will be removed in v0.14.0. Assign the `x` variable to `hue` and set `legend=False` for the same effect.\n",
      "\n",
      "  sns.barplot(x=vc.index, y=vc.values, ax=ax, palette=\"viridis\")\n"
     ]
    },
    {
     "data": {
      "image/png": "[encoded data removed]",
      "text/plain": [
       "<Figure size 800x600 with 1 Axes>"
      ]
     },
     "metadata": {},
     "output_type": "display_data"
    }
   ],
   "source": [
    "import matplotlib.pyplot as plt\n",
    "import seaborn as sns\n",
    "\n",
    "# create a figure and set of subplots\n",
    "fig, ax = plt.subplots(figsize=(8, 6))\n",
    "\n",
    "# use seaborn to create bar plot\n",
    "sns.barplot(x=vc.index, y=vc.values, ax=ax, palette=\"viridis\")\n",
    "\n",
    "# add the percentage labels to the bars\n",
    "for i, p in enumerate(ax.patches):\n",
    "    height = p.get_height()\n",
    "    ax.text(p.get_x() + p.get_width() / 2.,\n",
    "        height + 50,\n",
    "        f\"{pct.values[i]}%\",\n",
    "        ha=\"center\"\n",
    "    )\n",
    "\n",
    "ax.set_title(\"Distribution of Target Leak Classes\", fontsize=16)\n",
    "ax.set_xlabel(\"Target Leak\", fontsize=12)\n",
    "ax.set_ylabel(\"Number of Occurances\", fontsize=12)\n",
    "ax.set_xticks([0, 1])\n",
    "ax.set_xticklabels([\"No Leak (0)\", \"Leak (1)\"])\n",
    "\n",
    "sns.despine(left=True)\n",
    "plt.show()"
   ]
  },
  {
   "cell_type": "code",
   "execution_count": 15,
   "id": "a7943ffb",
   "metadata": {},
   "outputs": [
    {
     "data": {
      "text/plain": [
       "{0: 0.0001950458357714063, 1: 0.00088261253309797}"
      ]
     },
     "execution_count": 15,
     "metadata": {},
     "output_type": "execute_result"
    }
   ],
   "source": [
    "counts = dataset[\"target_leak\"].value_counts()\n",
    "w0 = (1.0 / counts[0])\n",
    "w1 = (1.0 / counts[1]) if 1 in counts else w0\n",
    "CLASS_WEIGHT = {0: float(w0), 1: float(w1)}\n",
    "CLASS_WEIGHT\n"
   ]
  }
 ],
 "metadata": {
  "kernelspec": {
   "display_name": "Python 3",
   "language": "python",
   "name": "python3"
  },
  "language_info": {
   "codemirror_mode": {
    "name": "ipython",
    "version": 3
   },
   "file_extension": ".py",
   "mimetype": "text/x-python",
   "name": "python",
   "nbconvert_exporter": "python",
   "pygments_lexer": "ipython3",
   "version": "3.11.0"
  }
 },
 "nbformat": 4,
 "nbformat_minor": 5
}
